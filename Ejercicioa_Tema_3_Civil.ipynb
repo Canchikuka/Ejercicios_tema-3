{
  "nbformat": 4,
  "nbformat_minor": 0,
  "metadata": {
    "colab": {
      "provenance": [],
      "authorship_tag": "ABX9TyNhXFAttbWcjaCuh+HzQ8t8",
      "include_colab_link": true
    },
    "kernelspec": {
      "name": "python3",
      "display_name": "Python 3"
    },
    "language_info": {
      "name": "python"
    }
  },
  "cells": [
    {
      "cell_type": "markdown",
      "metadata": {
        "id": "view-in-github",
        "colab_type": "text"
      },
      "source": [
        "<a href=\"https://colab.research.google.com/github/Canchikuka/Ejercicios_tema-3/blob/Ejercicio_3_Ventanas/Ejercicioa_Tema_3_Civil.ipynb\" target=\"_parent\"><img src=\"https://colab.research.google.com/assets/colab-badge.svg\" alt=\"Open In Colab\"/></a>"
      ]
    },
    {
      "cell_type": "markdown",
      "source": [
        "## Ejercicio 3 Construcción de Ventanas\n",
        "\n",
        "[UN SIMPLE PROBLEMA: CONSTRUCCION DE VENTANAS ](https://docs.google.com/document/d/15DZ-QVMJnQAoL38Ln7DRBa-as9Z4M5R0/edit?usp=sharing&ouid=115090580121117021820&rtpof=true&sd=true)\n",
        "\n",
        "##UN SIMPLE PROBLEMA: CONSTRUCCION DE VENTANAS\n",
        "Rob Miles CSharp Yellow Book 2012 © Rob Miles 2011 Department of Computer Science, The University of Hull.\n",
        "\n",
        "###PLANTEAMIENTO DEL PROBLEMA.\n",
        "\n",
        "Se requiere desarrollar un aplicativo que calcule los costos de materiales de un fabricante de ventanas. El fabricante desea ingresar las dimensiones de la ventana a fabricar, en metros, y a partir de allí el aplicativo deberá generar una salida de los costos para fabricar la ventana en términos de la cantidad de madera y vidrio necesario. El fabricante compra la madera en pies de longitud (1 m=3.25”). El programa deberá dar la longitud de la madera necesaria en pies de longitud.\n",
        "\n",
        "##PROBANDO EL PROGRAMA##.\n",
        "Si deseo una ventana de 2 metros de alto y 1 metro de ancho, el programa debería decirme que necesito 4 metros cuadrados de vidrio y 19.5 pies de madera.\n",
        "\n",
        "####PONIENDO MAS DETALLES\n",
        "El fabricante desea que el programa controle las siguientes restricciones:\n",
        "1. El área del vidrio requerido para la ventana debe ser en metros cuadrados.\n",
        "2. Las ventanas son de doble vidrio, de modo que cada ventana requiere dos láminas.\n",
        "3. La longitud de la madera requerida para el marco debe ser dada en pies.\n"
      ],
      "metadata": {
        "id": "EI4FrVBKJfEs"
      }
    },
    {
      "cell_type": "code",
      "source": [
        "# prompt: Escribe código de Python que resuelva el problema planteado anteriormente \"Un simple problema: construcción de ventanas\", por favor no uses funciones predefinidas por el usuario\n",
        "\n",
        "# Solicitar al usuario las dimensiones de la ventana\n",
        "alto_metros = float(input(\"Ingrese la altura de la ventana en metros: \"))\n",
        "ancho_metros = float(input(\"Ingrese el ancho de la ventana en metros: \"))\n",
        "\n",
        "# Calcular el área del vidrio en metros cuadrados\n",
        "area_vidrio = alto_metros * ancho_metros\n",
        "\n",
        "# Calcular la longitud de madera necesaria en metros\n",
        "perimetro_ventana = 2 * (alto_metros + ancho_metros)\n",
        "\n",
        "# Convertir la longitud de madera a pies\n",
        "longitud_madera_pies = perimetro_ventana * 3.25\n",
        "\n",
        "# Imprimir los resultados\n",
        "print(\"Area de vidrio requerida:\", area_vidrio, \"metros cuadrados\")\n",
        "print(\"Longitud de madera requerida:\", longitud_madera_pies, \"pies\")\n"
      ],
      "metadata": {
        "colab": {
          "base_uri": "https://localhost:8080/"
        },
        "outputId": "06dc325d-8b9c-49a4-dc33-355e109ce794",
        "id": "tzEHCdcgMAyE"
      },
      "execution_count": 5,
      "outputs": [
        {
          "output_type": "stream",
          "name": "stdout",
          "text": [
            "Ingrese la altura de la ventana en metros: 2\n",
            "Ingrese el ancho de la ventana en metros: 1\n",
            "Area de vidrio requerida: 2.0 metros cuadrados\n",
            "Longitud de madera requerida: 19.5 pies\n"
          ]
        }
      ]
    },
    {
      "cell_type": "code",
      "source": [
        "# prompt: Por favor reescribe el código anterior usando funciones predefinidas por el usuario\n",
        "\n",
        "def calcular_area_vidrio(alto, ancho):\n",
        "  \"\"\"Calcula el área del vidrio en metros cuadrados.\"\"\"\n",
        "  return alto * ancho\n",
        "\n",
        "def calcular_longitud_madera(alto, ancho):\n",
        "  \"\"\"Calcula la longitud de madera necesaria en pies.\"\"\"\n",
        "  perimetro_ventana = 2 * (alto + ancho)\n",
        "  return perimetro_ventana * 3.25\n",
        "\n",
        "# Solicitar al usuario las dimensiones de la ventana\n",
        "alto_metros = float(input(\"Ingrese la altura de la ventana en metros: \"))\n",
        "ancho_metros = float(input(\"Ingrese el ancho de la ventana en metros: \"))\n",
        "\n",
        "# Calcular el área del vidrio y la longitud de madera usando las funciones\n",
        "area_vidrio = calcular_area_vidrio(alto_metros, ancho_metros)\n",
        "longitud_madera_pies = calcular_longitud_madera(alto_metros, ancho_metros)\n",
        "\n",
        "# Imprimir los resultados\n",
        "print(\"Area de vidrio requerida:\", area_vidrio, \"metros cuadrados\")\n",
        "print(\"Longitud de madera requerida:\", longitud_madera_pies, \"pies\")\n",
        "\n"
      ],
      "metadata": {
        "colab": {
          "base_uri": "https://localhost:8080/"
        },
        "id": "r0kIzzW3NKNp",
        "outputId": "40d0326b-4536-47b7-b67c-71ddde55b555"
      },
      "execution_count": 6,
      "outputs": [
        {
          "output_type": "stream",
          "name": "stdout",
          "text": [
            "Ingrese la altura de la ventana en metros: 2\n",
            "Ingrese el ancho de la ventana en metros: 1\n",
            "Area de vidrio requerida: 2.0 metros cuadrados\n",
            "Longitud de madera requerida: 19.5 pies\n"
          ]
        }
      ]
    },
    {
      "cell_type": "markdown",
      "source": [
        "## Ejercicio 4 Construcción de Secadores Solares\n",
        "\n",
        "[EFICIENCIAS_SECADOR_SOLAR](https://docs.google.com/spreadsheets/d/1HOwH81S8jgQYQj9c3P-vpj0_gpliJlbo/edit?usp=sharing&ouid=115090580121117021820&rtpof=true&sd=true)"
      ],
      "metadata": {
        "id": "CFl1j5SLMXcO"
      }
    },
    {
      "cell_type": "code",
      "source": [],
      "metadata": {
        "id": "g_J7YAV11M3q"
      },
      "execution_count": null,
      "outputs": []
    }
  ]
}